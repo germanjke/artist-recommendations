{
 "cells": [
  {
   "cell_type": "code",
   "execution_count": 1,
   "metadata": {},
   "outputs": [],
   "source": [
    "import pandas as pd\n",
    "import scipy\n",
    "import implicit\n",
    "from implicit import evaluation"
   ]
  },
  {
   "cell_type": "code",
   "execution_count": 2,
   "metadata": {},
   "outputs": [],
   "source": [
    "df = pd.read_pickle('sessions_counts.pkl')\n",
    "tracks_df = pd.read_pickle('tracks_df.pkl')\n",
    "artists_df = pd.read_pickle('artists_df.pkl') "
   ]
  },
  {
   "cell_type": "code",
   "execution_count": 3,
   "metadata": {},
   "outputs": [],
   "source": [
    "def track_id_to_artist_id_mapping(track_list):\n",
    "    tracks = tracks_df['track_id']\n",
    "    artists = tracks_df['artist_id']\n",
    "    d = dict(zip(tracks, artists))\n",
    "    \n",
    "    artist_list = []\n",
    "    for track in track_list:\n",
    "        try:\n",
    "            artist = d[track]\n",
    "            artist_list.append(artist)\n",
    "        except KeyError:\n",
    "            pass\n",
    "    \n",
    "    artist_counter = dict(Counter(artist_list))\n",
    "    \n",
    "    return artist_counter"
   ]
  },
  {
   "cell_type": "code",
   "execution_count": 4,
   "metadata": {},
   "outputs": [],
   "source": [
    "def artist_id_to_artist_name(df, id_):\n",
    "    '''\n",
    "    Getting artist name via artist id\n",
    "    '''\n",
    "    artist_name = df[df['artist_id'] == id_].iloc[0, 1]\n",
    "    return artist_name"
   ]
  },
  {
   "cell_type": "code",
   "execution_count": 5,
   "metadata": {},
   "outputs": [],
   "source": [
    "df = df[0:5000]\n",
    "user_artists_matrix = pd.json_normalize(df['artist_counts'])\n",
    "user_artists_matrix.set_index(df.index, inplace=True)\n",
    "user_artists_matrix.fillna(0, inplace=True)"
   ]
  },
  {
   "cell_type": "code",
   "execution_count": 6,
   "metadata": {},
   "outputs": [],
   "source": [
    "sparse_matrix = scipy.sparse.csr_matrix(user_artists_matrix.values)\n",
    "sparse_matrix_train = sparse_matrix[0:4000]\n",
    "sparse_matrix_test = sparse_matrix[4000:5000]"
   ]
  },
  {
   "cell_type": "markdown",
   "metadata": {},
   "source": [
    "### ALS (only sessions data)"
   ]
  },
  {
   "cell_type": "code",
   "execution_count": 7,
   "metadata": {},
   "outputs": [
    {
     "name": "stderr",
     "output_type": "stream",
     "text": [
      "WARNING:root:Intel MKL BLAS detected. Its highly recommend to set the environment variable 'export MKL_NUM_THREADS=1' to disable its internal multithreading\n"
     ]
    },
    {
     "data": {
      "application/vnd.jupyter.widget-view+json": {
       "model_id": "dddda2bb12784af385a939f394a5a0ff",
       "version_major": 2,
       "version_minor": 0
      },
      "text/plain": [
       "HBox(children=(FloatProgress(value=0.0, max=15.0), HTML(value='')))"
      ]
     },
     "metadata": {},
     "output_type": "display_data"
    },
    {
     "name": "stdout",
     "output_type": "stream",
     "text": [
      "\n"
     ]
    }
   ],
   "source": [
    "# initialize a model\n",
    "model = implicit.als.AlternatingLeastSquares(factors=3008)\n",
    "\n",
    "# train the model on a sparse matrix of item/user/confidence weights\n",
    "model.fit(sparse_matrix_train)"
   ]
  },
  {
   "cell_type": "code",
   "execution_count": 8,
   "metadata": {},
   "outputs": [
    {
     "data": {
      "application/vnd.jupyter.widget-view+json": {
       "model_id": "95e89e4a3aac46fa950c7d74f51c7818",
       "version_major": 2,
       "version_minor": 0
      },
      "text/plain": [
       "HBox(children=(FloatProgress(value=0.0, max=1000.0), HTML(value='')))"
      ]
     },
     "metadata": {},
     "output_type": "display_data"
    },
    {
     "name": "stdout",
     "output_type": "stream",
     "text": [
      "\n"
     ]
    },
    {
     "data": {
      "text/plain": [
       "0.0019891269841269842"
      ]
     },
     "execution_count": 8,
     "metadata": {},
     "output_type": "execute_result"
    }
   ],
   "source": [
    "# eval algorithm on test dataset\n",
    "evaluation.mean_average_precision_at_k(model, sparse_matrix_train, sparse_matrix_test, num_threads=0)"
   ]
  },
  {
   "cell_type": "markdown",
   "metadata": {},
   "source": [
    "### ALS (sessions data with like advantages)"
   ]
  },
  {
   "cell_type": "code",
   "execution_count": 4,
   "metadata": {},
   "outputs": [],
   "source": [
    "df = pd.read_pickle('sessions_likes.pkl')\n",
    "tracks_df = pd.read_pickle('tracks_df.pkl')\n",
    "artists_df = pd.read_pickle('artists_df.pkl') "
   ]
  },
  {
   "cell_type": "code",
   "execution_count": 5,
   "metadata": {},
   "outputs": [],
   "source": [
    "df = df[0:5000]\n",
    "user_artists_matrix = pd.json_normalize(df['artist_counts'])\n",
    "user_artists_matrix.set_index(df.index, inplace=True)\n",
    "user_artists_matrix.fillna(0, inplace=True)\n",
    "\n",
    "sparse_matrix = scipy.sparse.csr_matrix(user_artists_matrix.values)\n",
    "sparse_matrix_train = sparse_matrix[0:4000]\n",
    "sparse_matrix_test = sparse_matrix[4000:5000]"
   ]
  },
  {
   "cell_type": "code",
   "execution_count": 17,
   "metadata": {},
   "outputs": [
    {
     "data": {
      "application/vnd.jupyter.widget-view+json": {
       "model_id": "3f12cde274e24dfa873b467587ca684f",
       "version_major": 2,
       "version_minor": 0
      },
      "text/plain": [
       "HBox(children=(FloatProgress(value=0.0, max=15.0), HTML(value='')))"
      ]
     },
     "metadata": {},
     "output_type": "display_data"
    },
    {
     "name": "stdout",
     "output_type": "stream",
     "text": [
      "\n"
     ]
    }
   ],
   "source": [
    "# initialize a model\n",
    "model = implicit.als.AlternatingLeastSquares(factors=3008)\n",
    "\n",
    "# train the model on a sparse matrix of item/user/confidence weights\n",
    "model.fit(sparse_matrix_train)"
   ]
  },
  {
   "cell_type": "code",
   "execution_count": 18,
   "metadata": {},
   "outputs": [
    {
     "data": {
      "application/vnd.jupyter.widget-view+json": {
       "model_id": "69b6b4450ec04846a8c36b06ee6f240c",
       "version_major": 2,
       "version_minor": 0
      },
      "text/plain": [
       "HBox(children=(FloatProgress(value=0.0, max=1000.0), HTML(value='')))"
      ]
     },
     "metadata": {},
     "output_type": "display_data"
    },
    {
     "name": "stdout",
     "output_type": "stream",
     "text": [
      "\n"
     ]
    },
    {
     "data": {
      "text/plain": [
       "0.004146785714285715"
      ]
     },
     "execution_count": 18,
     "metadata": {},
     "output_type": "execute_result"
    }
   ],
   "source": [
    "# eval algorithm on test dataset\n",
    "evaluation.mean_average_precision_at_k(model, sparse_matrix_train, sparse_matrix_test, num_threads=0)"
   ]
  },
  {
   "cell_type": "markdown",
   "metadata": {},
   "source": [
    "### Represent results"
   ]
  },
  {
   "cell_type": "code",
   "execution_count": 8,
   "metadata": {},
   "outputs": [],
   "source": [
    "def recommend_artists_for_user(userid, model, sparse_matrix):\n",
    "    user_items = sparse_matrix.T.tocsr()\n",
    "    recommendations = model.recommend(userid, user_items)\n",
    "    print(f'Best recommendations for user {userid}:\\n')\n",
    "    for rec in recommendations[:5]:\n",
    "        artist = rec[0]\n",
    "        print(artist_id_to_artist_name(artists_df, id_=artist))"
   ]
  },
  {
   "cell_type": "code",
   "execution_count": 9,
   "metadata": {},
   "outputs": [
    {
     "name": "stdout",
     "output_type": "stream",
     "text": [
      "Best recommendations for user 6:\n",
      "\n",
      "176BIZ\n",
      "2.01 - One Republic ft Sara Bareilles\n",
      "1 I Feel Better\n",
      "1997 A Grand Love Story (club33689845)((CD1)\n",
      "33Miles\n"
     ]
    }
   ],
   "source": [
    "recommend_artists_for_user(6, model, sparse_matrix_train)"
   ]
  },
  {
   "cell_type": "code",
   "execution_count": 10,
   "metadata": {},
   "outputs": [],
   "source": [
    "def smilar_with_artist(artist, model):\n",
    "    print(f'Most smilar artists to {(artist_id_to_artist_name(artists_df, id_=artist))}:\\n')\n",
    "    idx_to_artist = dict(enumerate(list(map(int, user_artists_matrix.columns))))\n",
    "    idx_to_artist = dict((v,k) for k,v in idx_to_artist.items())\n",
    "    artist = idx_to_artist[artist]  # getting artists by index in sparse matrix\n",
    "    \n",
    "    related = model.similar_items(artist)\n",
    "    for rel in related[1:5]:\n",
    "        artist = rel[0]\n",
    "        print(artist_id_to_artist_name(artists_df, id_=artist))"
   ]
  },
  {
   "cell_type": "code",
   "execution_count": 11,
   "metadata": {},
   "outputs": [
    {
     "name": "stdout",
     "output_type": "stream",
     "text": [
      "Most smilar artists to Dragomir Milenkovic:\n",
      "\n",
      "118_Aqua And Arctic\n",
      "3Carbine\n",
      "22-Pistepirkko\n",
      "37 ESC 2010 - Turkey - Manga - We could be the same\n"
     ]
    }
   ],
   "source": [
    "smilar_with_artist(421930, model)"
   ]
  },
  {
   "cell_type": "code",
   "execution_count": 12,
   "metadata": {},
   "outputs": [
    {
     "name": "stdout",
     "output_type": "stream",
     "text": [
      "Most smilar artists to Rihana:\n",
      "\n",
      "11 LIRA DE ORFEO\n",
      "1RAVOHN\n",
      "13. Benjamin Shock\n",
      "2razyPe\n"
     ]
    }
   ],
   "source": [
    "smilar_with_artist(295530, model)"
   ]
  }
 ],
 "metadata": {
  "kernelspec": {
   "display_name": "Python 3",
   "language": "python",
   "name": "python3"
  },
  "language_info": {
   "codemirror_mode": {
    "name": "ipython",
    "version": 3
   },
   "file_extension": ".py",
   "mimetype": "text/x-python",
   "name": "python",
   "nbconvert_exporter": "python",
   "pygments_lexer": "ipython3",
   "version": "3.7.6"
  }
 },
 "nbformat": 4,
 "nbformat_minor": 4
}
