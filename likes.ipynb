{
 "cells": [
  {
   "cell_type": "code",
   "execution_count": 1,
   "metadata": {},
   "outputs": [],
   "source": [
    "import pandas as pd\n",
    "import json\n",
    "from tqdm.notebook import tqdm"
   ]
  },
  {
   "cell_type": "code",
   "execution_count": 2,
   "metadata": {},
   "outputs": [],
   "source": [
    "def get_like_data(path):\n",
    "    df = pd.read_csv(path, sep='\\t', header=None)\n",
    "    df[2] = df[2].apply(lambda x: x.replace('-1 {\"value\":\"love\"} ', ''))\n",
    "    df['user'] = df[2].apply(lambda x: json.loads(x)['subjects'][0]['id'])\n",
    "    df['track'] = df[2].apply(lambda x: json.loads(x)['objects'][0]['id'])\n",
    "    df = df[['user', 'track']]\n",
    "    df.drop_duplicates(inplace=True)\n",
    "    df.to_pickle('likes.pkl')\n",
    "    \n",
    "    return df"
   ]
  },
  {
   "cell_type": "code",
   "execution_count": 3,
   "metadata": {},
   "outputs": [
    {
     "data": {
      "text/html": [
       "<div>\n",
       "<style scoped>\n",
       "    .dataframe tbody tr th:only-of-type {\n",
       "        vertical-align: middle;\n",
       "    }\n",
       "\n",
       "    .dataframe tbody tr th {\n",
       "        vertical-align: top;\n",
       "    }\n",
       "\n",
       "    .dataframe thead th {\n",
       "        text-align: right;\n",
       "    }\n",
       "</style>\n",
       "<table border=\"1\" class=\"dataframe\">\n",
       "  <thead>\n",
       "    <tr style=\"text-align: right;\">\n",
       "      <th></th>\n",
       "      <th>user</th>\n",
       "      <th>track</th>\n",
       "    </tr>\n",
       "  </thead>\n",
       "  <tbody>\n",
       "    <tr>\n",
       "      <th>0</th>\n",
       "      <td>44542</td>\n",
       "      <td>2785601</td>\n",
       "    </tr>\n",
       "    <tr>\n",
       "      <th>1</th>\n",
       "      <td>44542</td>\n",
       "      <td>2785590</td>\n",
       "    </tr>\n",
       "    <tr>\n",
       "      <th>2</th>\n",
       "      <td>44542</td>\n",
       "      <td>143076</td>\n",
       "    </tr>\n",
       "    <tr>\n",
       "      <th>3</th>\n",
       "      <td>44542</td>\n",
       "      <td>143037</td>\n",
       "    </tr>\n",
       "    <tr>\n",
       "      <th>4</th>\n",
       "      <td>44542</td>\n",
       "      <td>143052</td>\n",
       "    </tr>\n",
       "    <tr>\n",
       "      <th>...</th>\n",
       "      <td>...</td>\n",
       "      <td>...</td>\n",
       "    </tr>\n",
       "    <tr>\n",
       "      <th>4106334</th>\n",
       "      <td>39896</td>\n",
       "      <td>3208469</td>\n",
       "    </tr>\n",
       "    <tr>\n",
       "      <th>4106335</th>\n",
       "      <td>39896</td>\n",
       "      <td>2756716</td>\n",
       "    </tr>\n",
       "    <tr>\n",
       "      <th>4106336</th>\n",
       "      <td>39896</td>\n",
       "      <td>3644495</td>\n",
       "    </tr>\n",
       "    <tr>\n",
       "      <th>4106338</th>\n",
       "      <td>39896</td>\n",
       "      <td>2247239</td>\n",
       "    </tr>\n",
       "    <tr>\n",
       "      <th>4106339</th>\n",
       "      <td>39896</td>\n",
       "      <td>3570567</td>\n",
       "    </tr>\n",
       "  </tbody>\n",
       "</table>\n",
       "<p>1692561 rows × 2 columns</p>\n",
       "</div>"
      ],
      "text/plain": [
       "          user    track\n",
       "0        44542  2785601\n",
       "1        44542  2785590\n",
       "2        44542   143076\n",
       "3        44542   143037\n",
       "4        44542   143052\n",
       "...        ...      ...\n",
       "4106334  39896  3208469\n",
       "4106335  39896  2756716\n",
       "4106336  39896  3644495\n",
       "4106338  39896  2247239\n",
       "4106339  39896  3570567\n",
       "\n",
       "[1692561 rows x 2 columns]"
      ]
     },
     "execution_count": 3,
     "metadata": {},
     "output_type": "execute_result"
    }
   ],
   "source": [
    "get_like_data('ThirtyMusic/relations/love.idomaar')"
   ]
  },
  {
   "cell_type": "code",
   "execution_count": 19,
   "metadata": {},
   "outputs": [],
   "source": [
    "likes_df = pd.read_pickle('likes.pkl')\n",
    "sessions_df = pd.read_pickle('sessions_counts.pkl')\n",
    "tracks_df = pd.read_pickle('tracks_df.pkl')\n",
    "tracks_df.rename(columns={'track_id':'track', 'artist_id':'artist'}, inplace=True)"
   ]
  },
  {
   "cell_type": "code",
   "execution_count": 20,
   "metadata": {
    "scrolled": true
   },
   "outputs": [],
   "source": [
    "likes_df_artists = likes_df.merge(tracks_df, on='track', how='inner')"
   ]
  },
  {
   "cell_type": "code",
   "execution_count": 21,
   "metadata": {
    "scrolled": true
   },
   "outputs": [
    {
     "data": {
      "text/html": [
       "<div>\n",
       "<style scoped>\n",
       "    .dataframe tbody tr th:only-of-type {\n",
       "        vertical-align: middle;\n",
       "    }\n",
       "\n",
       "    .dataframe tbody tr th {\n",
       "        vertical-align: top;\n",
       "    }\n",
       "\n",
       "    .dataframe thead th {\n",
       "        text-align: right;\n",
       "    }\n",
       "</style>\n",
       "<table border=\"1\" class=\"dataframe\">\n",
       "  <thead>\n",
       "    <tr style=\"text-align: right;\">\n",
       "      <th></th>\n",
       "      <th>user</th>\n",
       "      <th>track</th>\n",
       "      <th>artist</th>\n",
       "    </tr>\n",
       "  </thead>\n",
       "  <tbody>\n",
       "    <tr>\n",
       "      <th>0</th>\n",
       "      <td>44542</td>\n",
       "      <td>2785601</td>\n",
       "      <td>349295</td>\n",
       "    </tr>\n",
       "    <tr>\n",
       "      <th>1</th>\n",
       "      <td>44542</td>\n",
       "      <td>2785590</td>\n",
       "      <td>349295</td>\n",
       "    </tr>\n",
       "    <tr>\n",
       "      <th>2</th>\n",
       "      <td>44542</td>\n",
       "      <td>143076</td>\n",
       "      <td>18754</td>\n",
       "    </tr>\n",
       "    <tr>\n",
       "      <th>3</th>\n",
       "      <td>13516</td>\n",
       "      <td>143076</td>\n",
       "      <td>18754</td>\n",
       "    </tr>\n",
       "    <tr>\n",
       "      <th>4</th>\n",
       "      <td>44542</td>\n",
       "      <td>143037</td>\n",
       "      <td>18754</td>\n",
       "    </tr>\n",
       "    <tr>\n",
       "      <th>...</th>\n",
       "      <td>...</td>\n",
       "      <td>...</td>\n",
       "      <td>...</td>\n",
       "    </tr>\n",
       "    <tr>\n",
       "      <th>2451033</th>\n",
       "      <td>39880</td>\n",
       "      <td>2254906</td>\n",
       "      <td>281944</td>\n",
       "    </tr>\n",
       "    <tr>\n",
       "      <th>2451034</th>\n",
       "      <td>39880</td>\n",
       "      <td>2254906</td>\n",
       "      <td>281944</td>\n",
       "    </tr>\n",
       "    <tr>\n",
       "      <th>2451035</th>\n",
       "      <td>39880</td>\n",
       "      <td>263514</td>\n",
       "      <td>32971</td>\n",
       "    </tr>\n",
       "    <tr>\n",
       "      <th>2451036</th>\n",
       "      <td>39880</td>\n",
       "      <td>3194439</td>\n",
       "      <td>395571</td>\n",
       "    </tr>\n",
       "    <tr>\n",
       "      <th>2451037</th>\n",
       "      <td>39891</td>\n",
       "      <td>1930612</td>\n",
       "      <td>241983</td>\n",
       "    </tr>\n",
       "  </tbody>\n",
       "</table>\n",
       "<p>2451038 rows × 3 columns</p>\n",
       "</div>"
      ],
      "text/plain": [
       "          user    track  artist\n",
       "0        44542  2785601  349295\n",
       "1        44542  2785590  349295\n",
       "2        44542   143076   18754\n",
       "3        13516   143076   18754\n",
       "4        44542   143037   18754\n",
       "...        ...      ...     ...\n",
       "2451033  39880  2254906  281944\n",
       "2451034  39880  2254906  281944\n",
       "2451035  39880   263514   32971\n",
       "2451036  39880  3194439  395571\n",
       "2451037  39891  1930612  241983\n",
       "\n",
       "[2451038 rows x 3 columns]"
      ]
     },
     "execution_count": 21,
     "metadata": {},
     "output_type": "execute_result"
    }
   ],
   "source": [
    "likes_df_artists"
   ]
  },
  {
   "cell_type": "code",
   "execution_count": 26,
   "metadata": {},
   "outputs": [],
   "source": [
    "def like_advantage(user_id, artist_counts):\n",
    "    for k, v in artist_counts.items():\n",
    "        if len(likes_df_artists[(likes_df_artists.user == user_id)\n",
    "                                & (likes_df_artists.artist == k)]) == 1:  # we have this pair in like dfii\n",
    "            sessions_df.iloc[user_id]['artist_counts'][k] *= 10"
   ]
  },
  {
   "cell_type": "code",
   "execution_count": 27,
   "metadata": {},
   "outputs": [
    {
     "data": {
      "application/vnd.jupyter.widget-view+json": {
       "model_id": "b3f35826161049eea832fee872ae741c",
       "version_major": 2,
       "version_minor": 0
      },
      "text/plain": [
       "HBox(children=(FloatProgress(value=0.0, max=5000.0), HTML(value='')))"
      ]
     },
     "metadata": {},
     "output_type": "display_data"
    },
    {
     "name": "stdout",
     "output_type": "stream",
     "text": [
      "\n"
     ]
    }
   ],
   "source": [
    "sessions_df = sessions_df[0:5000]\n",
    "for session in tqdm(range(len(sessions_df))):\n",
    "    like_advantage(session, sessions_df.iloc[session]['artist_counts'])"
   ]
  },
  {
   "cell_type": "code",
   "execution_count": 28,
   "metadata": {},
   "outputs": [],
   "source": [
    "sessions_df.to_pickle('sessions_likes.pkl')"
   ]
  },
  {
   "cell_type": "code",
   "execution_count": null,
   "metadata": {},
   "outputs": [],
   "source": []
  }
 ],
 "metadata": {
  "kernelspec": {
   "display_name": "Python 3",
   "language": "python",
   "name": "python3"
  },
  "language_info": {
   "codemirror_mode": {
    "name": "ipython",
    "version": 3
   },
   "file_extension": ".py",
   "mimetype": "text/x-python",
   "name": "python",
   "nbconvert_exporter": "python",
   "pygments_lexer": "ipython3",
   "version": "3.7.6"
  }
 },
 "nbformat": 4,
 "nbformat_minor": 4
}
